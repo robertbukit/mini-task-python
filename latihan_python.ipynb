{
  "nbformat": 4,
  "nbformat_minor": 0,
  "metadata": {
    "colab": {
      "provenance": [],
      "authorship_tag": "ABX9TyNrE4MTs1Cl+AaVe2qDbTS8",
      "include_colab_link": true
    },
    "kernelspec": {
      "name": "python3",
      "display_name": "Python 3"
    },
    "language_info": {
      "name": "python"
    }
  },
  "cells": [
    {
      "cell_type": "markdown",
      "metadata": {
        "id": "view-in-github",
        "colab_type": "text"
      },
      "source": [
        "<a href=\"https://colab.research.google.com/github/robertbukit/mini-task-python/blob/main/latihan_python.ipynb\" target=\"_parent\"><img src=\"https://colab.research.google.com/assets/colab-badge.svg\" alt=\"Open In Colab\"/></a>"
      ]
    },
    {
      "cell_type": "code",
      "source": [
        "#maximum antara 2 angka\n",
        "def max_of_two(x,y):\n",
        "  if x > y:\n",
        "    return x\n",
        "  return y\n",
        "\n",
        "#maximum dari 3 angka\n",
        "def max_of_three(x,y,z):\n",
        "  return max_of_two(x, max_of_two(y,z))\n",
        "\n",
        "#maximum dari 4 angka\n",
        "def max_of_four(x,y,z,a):\n",
        "  return max_of_two(x, max_of_three(y,z,a))\n",
        "\n",
        "#maximum dari banyak angka dalam list\n",
        "def max_of_list(list):\n",
        "  max_num = list[0]\n",
        "\n",
        "  for num in list:\n",
        "    if num > max_num:\n",
        "      max_num = num\n",
        "\n",
        "  return max_num\n",
        "\n",
        "maks_4 = max_of_four(32,44,12,77)\n",
        "print(maks_4)\n",
        "\n",
        "angka = [1,2,4,6,7,4,55,67,77,3,21,13,15,34,65,91,65,34,55]\n",
        "maksimum = max_of_list(angka)\n",
        "print(maksimum)\n",
        "\n"
      ],
      "metadata": {
        "colab": {
          "base_uri": "https://localhost:8080/"
        },
        "id": "5BAMUznqD9Zg",
        "outputId": "18d0e24f-7b40-4ef9-f889-b62869ab8491"
      },
      "execution_count": null,
      "outputs": [
        {
          "output_type": "stream",
          "name": "stdout",
          "text": [
            "77\n",
            "91\n"
          ]
        }
      ]
    },
    {
      "cell_type": "code",
      "source": [
        "#multiply number int in list\n",
        "def multiply(nums):\n",
        "  total = 1\n",
        "  for x in nums:\n",
        "    total = total*x\n",
        "\n",
        "  return total\n",
        "\n",
        "numbers = [1,2,3,4]\n",
        "print(multiply(numbers))"
      ],
      "metadata": {
        "colab": {
          "base_uri": "https://localhost:8080/"
        },
        "id": "SZSoLVaFQaL1",
        "outputId": "13b51623-70bf-4b07-c4c1-6c59069a776b"
      },
      "execution_count": null,
      "outputs": [
        {
          "output_type": "stream",
          "name": "stdout",
          "text": [
            "24\n"
          ]
        }
      ]
    },
    {
      "cell_type": "code",
      "source": [
        "#Cek dan menjumlahkan huruf kapital dalam suatu string\n",
        "def How_Upper(string):\n",
        "  d = {\"UPPER_CASE\": 0, \"LOWER_CASE\": 0}\n",
        "  for c in string:\n",
        "    if c.isupper():\n",
        "      d[\"UPPER_CASE\"] += 1\n",
        "    elif c.islower():\n",
        "      d[\"LOWER_CASE\"] += 1\n",
        "    else:\n",
        "      pass\n",
        "  print(f'jumlah huruf kapitalnya adalah {d[\"UPPER_CASE\"]}')\n",
        "  print(f'jumlah huruf non kapitalnya adalah {d[\"LOWER_CASE\"]}')\n",
        "\n",
        "How_Upper(\"Robert Gunanta Bukit\")"
      ],
      "metadata": {
        "colab": {
          "base_uri": "https://localhost:8080/"
        },
        "id": "c4JpW-VrReAj",
        "outputId": "b4ce57b1-4917-4427-ef30-061423eddb02"
      },
      "execution_count": null,
      "outputs": [
        {
          "output_type": "stream",
          "name": "stdout",
          "text": [
            "jumlah huruf kapitalnya adalah 3\n",
            "jumlah huruf non kapitalnya adalah 15\n"
          ]
        }
      ]
    }
  ]
}